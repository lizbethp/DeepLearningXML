{
 "cells": [
  {
   "cell_type": "code",
   "execution_count": 44,
   "metadata": {},
   "outputs": [],
   "source": [
    "import xml.etree.ElementTree as ET"
   ]
  },
  {
   "cell_type": "code",
   "execution_count": 45,
   "metadata": {},
   "outputs": [],
   "source": [
    "# read in xml data from file\n",
    "tree = ET.parse(\"H07152021_133059.xml\")\n",
    "root = tree.getroot()"
   ]
  },
  {
   "cell_type": "code",
   "execution_count": 46,
   "metadata": {},
   "outputs": [
    {
     "name": "stdout",
     "output_type": "stream",
     "text": [
      "Training loss:\n",
      "[27.025306701660156, 33.35752487182617, 28.515592575073242, 35.70825958251953, 27.037824630737305, 39.20478439331055, 38.19881057739258, 26.177635192871094, 22.40571403503418, 26.89358901977539, 25.498929977416992, 27.010753631591797, 25.130876541137695, 31.383892059326172, 24.442350387573242, 24.10081672668457, 25.39626121520996, 23.28352165222168, 23.02411460876465, 28.37607765197754, 22.479511260986328, 22.469160079956055, 22.35851287841797, 22.058366775512695, 21.862070083618164]\n",
      "\n",
      "\n",
      "Validation loss:\n",
      "[20.43377113342285, 21.283010482788086, 21.57732391357422, 239.58465576171875, 116.75675201416016, 783.4039916992188, 20.072912216186523, 18.382415771484375, 17.425878524780273, 16.300352096557617, 16.077308654785156, 17.26930046081543, 15.600499153137207, 16.418596267700195, 15.26983642578125, 15.034682273864746, 14.536450386047363, 14.795909881591797, 14.057734489440918, 15.781693458557129, 13.91643238067627, 14.367249488830566, 13.842625617980957, 15.818318367004395, 15.608588218688965]\n"
     ]
    }
   ],
   "source": [
    "# lists for storing training and validation loss values\n",
    "training_loss = []\n",
    "validation_loss = []\n",
    "\n",
    "# loop through results in XML file\n",
    "for result_view in root:\n",
    "    # store tool name\n",
    "    tool_name = result_view.attrib[\"Tool\"]\n",
    "    # check if tool name is Train Deep Learning Model\n",
    "    if tool_name == \"Train Deep Learning Model\":\n",
    "        # loop through tool's attributes\n",
    "        for attributes in result_view:\n",
    "            if attributes.tag == \"Messages\":\n",
    "                # loop through messages - this is where the training loss and validation loss values are stored\n",
    "                log_loss_values = False\n",
    "                for message in attributes:\n",
    "                    # stop logging loss values after we see the \"average_precision_score\" appear\n",
    "                    if \"average_precision_score\" in message.text:\n",
    "                        log_loss_values = False\n",
    "                    \n",
    "                    # if this is true, start logging and parsing the loss values\n",
    "                    if log_loss_values:\n",
    "                        # split creates a list with two elements (training and validation loss)\n",
    "                        tloss, vloss = message.text.split()\n",
    "                        # convert values from strings to float and store in lists\n",
    "                        training_loss.append(float(tloss))\n",
    "                        validation_loss.append(float(vloss))\n",
    "                    \n",
    "                    # start logging loss values after we see the training and validation loss headers\n",
    "                    if \"Training Loss\" in message.text:\n",
    "                        log_loss_values = True\n",
    "                        \n",
    "print(f\"Training loss:\\n{training_loss}\\n\\n\")\n",
    "print(f\"Validation loss:\\n{validation_loss}\")"
   ]
  },
  {
   "cell_type": "code",
   "execution_count": 47,
   "metadata": {},
   "outputs": [
    {
     "data": {
      "image/png": "[encoded data removed]",
      "text/plain": [
       "<Figure size 432x288 with 1 Axes>"
      ]
     },
     "metadata": {},
     "output_type": "display_data"
    }
   ],
   "source": [
    "# graph the training and validation loss\n",
    "import matplotlib.pyplot as plt\n",
    "%matplotlib inline\n",
    "\n",
    "epochs = list(range(1, len(training_loss) + 1))\n",
    "\n",
    "plt.figure()\n",
    "plt.plot(epochs, training_loss, label=\"Training\")\n",
    "plt.plot(epochs, validation_loss, label=\"Validation\")\n",
    "plt.xlabel(\"Epoch\")\n",
    "plt.ylabel(\"Loss %\")\n",
    "plt.legend(loc=\"upper right\")\n",
    "plt.title(\"\")\n",
    "\n",
    "plt.show()"
   ]
  },
  {
   "cell_type": "code",
   "execution_count": null,
   "metadata": {},
   "outputs": [],
   "source": []
  }
 ],
 "metadata": {
  "kernelspec": {
   "display_name": "ArcGISPro",
   "language": "Python",
   "name": "python3"
  },
  "language_info": {
   "file_extension": ".py",
   "name": "python",
   "version": "3"
  }
 },
 "nbformat": 4,
 "nbformat_minor": 2
}
